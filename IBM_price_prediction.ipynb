{
  "nbformat": 4,
  "nbformat_minor": 0,
  "metadata": {
    "colab": {
      "provenance": [],
      "toc_visible": true
    },
    "kernelspec": {
      "name": "python3",
      "display_name": "Python 3"
    },
    "language_info": {
      "name": "python"
    }
  },
  "cells": [
    {
      "cell_type": "markdown",
      "source": [
        "# Import libraries"
      ],
      "metadata": {
        "id": "kJNdu-nHHY2w"
      }
    },
    {
      "cell_type": "code",
      "execution_count": 1,
      "metadata": {
        "colab": {
          "base_uri": "https://localhost:8080/"
        },
        "id": "9FFrFU5_HRxa",
        "outputId": "504375df-dfb2-4d64-9597-1cdea5f899c9"
      },
      "outputs": [
        {
          "output_type": "stream",
          "name": "stdout",
          "text": [
            "Requirement already satisfied: pandas_ta in /usr/local/lib/python3.10/dist-packages (0.3.14b0)\n",
            "Requirement already satisfied: pandas in /usr/local/lib/python3.10/dist-packages (from pandas_ta) (2.0.3)\n",
            "Requirement already satisfied: python-dateutil>=2.8.2 in /usr/local/lib/python3.10/dist-packages (from pandas->pandas_ta) (2.8.2)\n",
            "Requirement already satisfied: pytz>=2020.1 in /usr/local/lib/python3.10/dist-packages (from pandas->pandas_ta) (2023.4)\n",
            "Requirement already satisfied: tzdata>=2022.1 in /usr/local/lib/python3.10/dist-packages (from pandas->pandas_ta) (2024.1)\n",
            "Requirement already satisfied: numpy>=1.21.0 in /usr/local/lib/python3.10/dist-packages (from pandas->pandas_ta) (1.25.2)\n",
            "Requirement already satisfied: six>=1.5 in /usr/local/lib/python3.10/dist-packages (from python-dateutil>=2.8.2->pandas->pandas_ta) (1.16.0)\n",
            "Requirement already satisfied: torch in /usr/local/lib/python3.10/dist-packages (2.2.1+cu121)\n",
            "Requirement already satisfied: torchvision in /usr/local/lib/python3.10/dist-packages (0.17.1+cu121)\n",
            "Requirement already satisfied: filelock in /usr/local/lib/python3.10/dist-packages (from torch) (3.14.0)\n",
            "Requirement already satisfied: typing-extensions>=4.8.0 in /usr/local/lib/python3.10/dist-packages (from torch) (4.11.0)\n",
            "Requirement already satisfied: sympy in /usr/local/lib/python3.10/dist-packages (from torch) (1.12)\n",
            "Requirement already satisfied: networkx in /usr/local/lib/python3.10/dist-packages (from torch) (3.3)\n",
            "Requirement already satisfied: jinja2 in /usr/local/lib/python3.10/dist-packages (from torch) (3.1.3)\n",
            "Requirement already satisfied: fsspec in /usr/local/lib/python3.10/dist-packages (from torch) (2023.6.0)\n",
            "Requirement already satisfied: nvidia-cuda-nvrtc-cu12==12.1.105 in /usr/local/lib/python3.10/dist-packages (from torch) (12.1.105)\n",
            "Requirement already satisfied: nvidia-cuda-runtime-cu12==12.1.105 in /usr/local/lib/python3.10/dist-packages (from torch) (12.1.105)\n",
            "Requirement already satisfied: nvidia-cuda-cupti-cu12==12.1.105 in /usr/local/lib/python3.10/dist-packages (from torch) (12.1.105)\n",
            "Requirement already satisfied: nvidia-cudnn-cu12==8.9.2.26 in /usr/local/lib/python3.10/dist-packages (from torch) (8.9.2.26)\n",
            "Requirement already satisfied: nvidia-cublas-cu12==12.1.3.1 in /usr/local/lib/python3.10/dist-packages (from torch) (12.1.3.1)\n",
            "Requirement already satisfied: nvidia-cufft-cu12==11.0.2.54 in /usr/local/lib/python3.10/dist-packages (from torch) (11.0.2.54)\n",
            "Requirement already satisfied: nvidia-curand-cu12==10.3.2.106 in /usr/local/lib/python3.10/dist-packages (from torch) (10.3.2.106)\n",
            "Requirement already satisfied: nvidia-cusolver-cu12==11.4.5.107 in /usr/local/lib/python3.10/dist-packages (from torch) (11.4.5.107)\n",
            "Requirement already satisfied: nvidia-cusparse-cu12==12.1.0.106 in /usr/local/lib/python3.10/dist-packages (from torch) (12.1.0.106)\n",
            "Requirement already satisfied: nvidia-nccl-cu12==2.19.3 in /usr/local/lib/python3.10/dist-packages (from torch) (2.19.3)\n",
            "Requirement already satisfied: nvidia-nvtx-cu12==12.1.105 in /usr/local/lib/python3.10/dist-packages (from torch) (12.1.105)\n",
            "Requirement already satisfied: triton==2.2.0 in /usr/local/lib/python3.10/dist-packages (from torch) (2.2.0)\n",
            "Requirement already satisfied: nvidia-nvjitlink-cu12 in /usr/local/lib/python3.10/dist-packages (from nvidia-cusolver-cu12==11.4.5.107->torch) (12.4.127)\n",
            "Requirement already satisfied: numpy in /usr/local/lib/python3.10/dist-packages (from torchvision) (1.25.2)\n",
            "Requirement already satisfied: pillow!=8.3.*,>=5.3.0 in /usr/local/lib/python3.10/dist-packages (from torchvision) (9.4.0)\n",
            "Requirement already satisfied: MarkupSafe>=2.0 in /usr/local/lib/python3.10/dist-packages (from jinja2->torch) (2.1.5)\n",
            "Requirement already satisfied: mpmath>=0.19 in /usr/local/lib/python3.10/dist-packages (from sympy->torch) (1.3.0)\n"
          ]
        }
      ],
      "source": [
        "!pip install pandas_ta\n",
        "!pip install torch torchvision"
      ]
    },
    {
      "cell_type": "code",
      "source": [
        "import pandas as pd\n",
        "import matplotlib.pyplot as plt\n",
        "import matplotlib.patches as mpatches\n",
        "import numpy as np\n",
        "import seaborn as sns\n",
        "import pandas_ta as ta\n",
        "from sklearn.linear_model import LinearRegression\n",
        "import torch\n",
        "import torch.nn as nn\n",
        "from torch.utils.data import DataLoader, TensorDataset\n",
        "import torch.optim as optim\n",
        "import random\n",
        "from copy import deepcopy"
      ],
      "metadata": {
        "id": "clS4zV-nHcIK"
      },
      "execution_count": 2,
      "outputs": []
    },
    {
      "cell_type": "code",
      "source": [
        "def set_seed(seed):\n",
        "    random.seed(seed)\n",
        "    np.random.seed(seed)\n",
        "    torch.manual_seed(seed)\n",
        "    torch.cuda.manual_seed_all(seed)\n",
        "\n",
        "set_seed(23)"
      ],
      "metadata": {
        "id": "7R_TowHSj7Vh"
      },
      "execution_count": 3,
      "outputs": []
    },
    {
      "cell_type": "markdown",
      "source": [
        "# Data Preparation"
      ],
      "metadata": {
        "id": "5v38LNNjHg8g"
      }
    },
    {
      "cell_type": "code",
      "source": [
        "ibm = pd.read_csv('/content/drive/MyDrive/Colab Notebooks/Trading/Data/IBM_weekly.csv')"
      ],
      "metadata": {
        "id": "lXpOdyUpHdsU"
      },
      "execution_count": 4,
      "outputs": []
    },
    {
      "cell_type": "code",
      "source": [
        "ibm.isnull().sum()"
      ],
      "metadata": {
        "colab": {
          "base_uri": "https://localhost:8080/"
        },
        "id": "nKoj2MD7HlQD",
        "outputId": "31a33cbe-bc96-4589-e1b7-6c79581d4aa5"
      },
      "execution_count": 5,
      "outputs": [
        {
          "output_type": "execute_result",
          "data": {
            "text/plain": [
              "Date      0\n",
              "Open      0\n",
              "High      0\n",
              "Low       0\n",
              "Close     0\n",
              "Volume    0\n",
              "dtype: int64"
            ]
          },
          "metadata": {},
          "execution_count": 5
        }
      ]
    },
    {
      "cell_type": "markdown",
      "source": [
        "## Target Construct"
      ],
      "metadata": {
        "id": "Q--hb-ZYHr9q"
      }
    },
    {
      "cell_type": "code",
      "source": [
        "# Create Log(Return)\n",
        "import numpy as np\n",
        "# Calculate logarithmic returns\n",
        "ibm['Log_Return'] = np.log(ibm['Close'] / ibm['Close'].shift(1))\n",
        "ibm['Log_Return'].fillna(0, inplace=True)  # Handle NaN values resulting from the shift"
      ],
      "metadata": {
        "id": "Tbi5B6UFHn3X"
      },
      "execution_count": 6,
      "outputs": []
    },
    {
      "cell_type": "markdown",
      "source": [
        "## Covariates construct"
      ],
      "metadata": {
        "id": "Jq8DThHyHwm2"
      }
    },
    {
      "cell_type": "code",
      "source": [
        "# Calculate Simple Moving Average (SMA)\n",
        "ibm['SMA_50'] = ta.sma(ibm['Close'], length=50)  # 50-period SMA\n",
        "ibm['SMA_200'] = ta.sma(ibm['Close'], length=200)  # 200-period SMA\n",
        "\n",
        "# Calculate Exponential Moving Average (EMA)\n",
        "ibm['EMA_12'] = ta.ema(ibm['Close'], length=12)  # 12-period EMA\n",
        "ibm['EMA_26'] = ta.ema(ibm['Close'], length=26)  # 26-period EMA\n",
        "\n",
        "# Calculate the Stochastic Oscillator components\n",
        "stoch = ta.stoch(ibm['High'], ibm['Low'], ibm['Close'])\n",
        "ibm = ibm.join(stoch)\n",
        "\n",
        "# Calculate Relative Strength Index (RSI)\n",
        "ibm['RSI_14'] = ta.rsi(ibm['Close'], length=14)  # 14-period RSI\n",
        "\n",
        "# Calculate Moving Average Convergence Divergence (MACD)\n",
        "macd = ta.macd(ibm['Close'])\n",
        "ibm = ibm.join(macd)"
      ],
      "metadata": {
        "id": "WGEHtRQgHuSf"
      },
      "execution_count": 7,
      "outputs": []
    },
    {
      "cell_type": "code",
      "source": [
        "ibm['Date'] = pd.to_datetime(ibm['Date'])\n",
        "ibm.set_index('Date', inplace=True)"
      ],
      "metadata": {
        "id": "_5xrh8oIH0hX"
      },
      "execution_count": 8,
      "outputs": []
    },
    {
      "cell_type": "code",
      "source": [
        "# Handle NaN:\n",
        "ibm.dropna(inplace=True)"
      ],
      "metadata": {
        "id": "taK6kfE3H064"
      },
      "execution_count": 9,
      "outputs": []
    },
    {
      "cell_type": "code",
      "source": [
        "ibm.shape"
      ],
      "metadata": {
        "colab": {
          "base_uri": "https://localhost:8080/"
        },
        "id": "WlXFiguTH26X",
        "outputId": "79239a3e-0359-4bf9-843d-7c0a9aa8d29d"
      },
      "execution_count": 10,
      "outputs": [
        {
          "output_type": "execute_result",
          "data": {
            "text/plain": [
              "(1367, 16)"
            ]
          },
          "metadata": {},
          "execution_count": 10
        }
      ]
    },
    {
      "cell_type": "markdown",
      "source": [
        "## Split"
      ],
      "metadata": {
        "id": "ROhgx2Rbg9GS"
      }
    },
    {
      "cell_type": "code",
      "source": [
        "dates = ibm.index"
      ],
      "metadata": {
        "id": "5t7pvD1YgzuJ"
      },
      "execution_count": 11,
      "outputs": []
    },
    {
      "cell_type": "code",
      "source": [
        "# Calculate split indices\n",
        "split_idx_train = int(len(ibm) * 0.7)\n",
        "split_idx_val = int(len(ibm) * 0.9)\n",
        "\n",
        "# Drop the specified columns and define the features and labels\n",
        "X_ibm = ibm.drop(['Log_Return'], axis=1)\n",
        "y_ibm = ibm['Log_Return']  # Log_Return as the target variable\n",
        "\n",
        "# Ensure that indices are reset before splitting to avoid potential issues\n",
        "X_ibm.reset_index(drop=True, inplace=True)\n",
        "y_ibm.reset_index(drop=True, inplace=True)\n",
        "\n",
        "# Split into training, validation, and testing sets\n",
        "X_ibm_train = X_ibm.iloc[:split_idx_train, :]\n",
        "X_ibm_val = X_ibm.iloc[split_idx_train:split_idx_val, :]\n",
        "X_ibm_test = X_ibm.iloc[split_idx_val:, :]\n",
        "\n",
        "y_ibm_train = y_ibm.iloc[:split_idx_train]\n",
        "y_ibm_val = y_ibm.iloc[split_idx_train:split_idx_val]\n",
        "y_ibm_test = y_ibm.iloc[split_idx_val:]"
      ],
      "metadata": {
        "id": "jBFqKIjRH4_F"
      },
      "execution_count": 12,
      "outputs": []
    },
    {
      "cell_type": "code",
      "source": [
        "ibm_dates_test = dates[split_idx_val:]"
      ],
      "metadata": {
        "id": "gNr3bzwtg2Hj"
      },
      "execution_count": 13,
      "outputs": []
    },
    {
      "cell_type": "code",
      "source": [
        "# Indices for plotting\n",
        "x_train = np.arange(len(y_ibm_train))\n",
        "x_val = np.arange(len(y_ibm_train), len(y_ibm_train) + len(y_ibm_val))\n",
        "x_test = np.arange(len(y_ibm_train) + len(y_ibm_val), len(y_ibm))\n",
        "\n",
        "# Plotting\n",
        "plt.figure(figsize=(12, 4))\n",
        "plt.plot(x_train, y_ibm_train, label=\"Train Data\")\n",
        "plt.plot(x_val, y_ibm_val, color='orange', label=\"Validation Data\")\n",
        "plt.plot(x_test, y_ibm_test, color='green', label=\"Test Data\")\n",
        "plt.vlines(len(y_ibm_train), ymin=min(y_ibm.min(), y_ibm.min(), y_ibm.min()), ymax=max(y_ibm.max(), y_ibm.max(), y_ibm.max()), label='Train-Val Split', linestyles='dashed', colors='orange')\n",
        "plt.vlines(len(y_ibm_train) + len(y_ibm_val), ymin=min(y_ibm.min(), y_ibm.min(), y_ibm.min()), ymax=max(y_ibm.max(), y_ibm.max(), y_ibm.max()), label='Val-Test Split', linestyles='dashed', colors='green')\n",
        "plt.legend()\n",
        "plt.title(\"Train, Validation, and Test Data Split\")\n",
        "plt.show()"
      ],
      "metadata": {
        "colab": {
          "base_uri": "https://localhost:8080/",
          "height": 337
        },
        "id": "47kdBEZKg6NT",
        "outputId": "40ca3e10-11ac-458f-878e-230e49443ac8"
      },
      "execution_count": 14,
      "outputs": [
        {
          "output_type": "display_data",
          "data": {
            "text/plain": [
              "<Figure size 1200x400 with 1 Axes>"
            ],
            "image/png": "[encoded data removed]"
          },
          "metadata": {}
        }
      ]
    },
    {
      "cell_type": "markdown",
      "source": [
        "# Data Preprocessing"
      ],
      "metadata": {
        "id": "_AmXsL9AIErl"
      }
    },
    {
      "cell_type": "code",
      "source": [
        "from sklearn.preprocessing import power_transform\n",
        "\n",
        "# Fit the transformer on the training data and transform it\n",
        "X_ibm_train_transformed = power_transform(X_ibm_train.to_numpy(), method='yeo-johnson')\n",
        "\n",
        "# Transform the validation data using the same transformer\n",
        "X_ibm_val_transformed = power_transform(X_ibm_val.to_numpy(), method='yeo-johnson')\n",
        "\n",
        "# Transform the test data using the same transformer\n",
        "X_ibm_test_transformed = power_transform(X_ibm_test.to_numpy(), method='yeo-johnson')"
      ],
      "metadata": {
        "id": "rOb2ygRYIGKX"
      },
      "execution_count": 15,
      "outputs": []
    },
    {
      "cell_type": "code",
      "source": [
        "from sklearn.preprocessing import StandardScaler\n",
        "\n",
        "# Initialize the StandardScaler\n",
        "scaler = StandardScaler()\n",
        "\n",
        "# Fit the scaler to the training data and transform it\n",
        "X_ibm_train_scaled = scaler.fit_transform(X_ibm_train_transformed)\n",
        "\n",
        "# Transform the val data using the same scaler\n",
        "X_ibm_val_scaled = scaler.transform(X_ibm_val_transformed)\n",
        "\n",
        "# Transform the test data using the same scaler\n",
        "X_ibm_test_scaled = scaler.transform(X_ibm_test_transformed)"
      ],
      "metadata": {
        "id": "XAPVwup0IG3H"
      },
      "execution_count": 16,
      "outputs": []
    },
    {
      "cell_type": "code",
      "source": [
        "print(X_ibm_train_scaled.shape)\n",
        "print(X_ibm_val_scaled.shape)\n",
        "print(X_ibm_test_scaled.shape)"
      ],
      "metadata": {
        "colab": {
          "base_uri": "https://localhost:8080/"
        },
        "id": "jbpY-46WIJCR",
        "outputId": "a642310d-0fbb-43a0-ea34-650d28a5fc51"
      },
      "execution_count": 17,
      "outputs": [
        {
          "output_type": "stream",
          "name": "stdout",
          "text": [
            "(956, 15)\n",
            "(274, 15)\n",
            "(137, 15)\n"
          ]
        }
      ]
    },
    {
      "cell_type": "markdown",
      "source": [
        "# Models"
      ],
      "metadata": {
        "id": "KCbeum4OINL_"
      }
    },
    {
      "cell_type": "code",
      "source": [
        "!ls \"/content/drive/My Drive/Colab Notebooks/Trading\""
      ],
      "metadata": {
        "colab": {
          "base_uri": "https://localhost:8080/"
        },
        "id": "yHXF7DRtN00A",
        "outputId": "661b636c-ff46-4517-beb1-3eff793681a0"
      },
      "execution_count": 18,
      "outputs": [
        {
          "output_type": "stream",
          "name": "stdout",
          "text": [
            "01_Strategy_Optimization.ipynb\tanns.py     Data\t\t\tlstm.py\n",
            "anns.ipynb\t\t\tarma.ipynb  IBM_price_prediction.ipynb\t__pycache__\n"
          ]
        }
      ]
    },
    {
      "cell_type": "code",
      "source": [
        "import sys\n",
        "sys.path.append('/content/drive/MyDrive/Colab Notebooks/Trading')\n",
        "from anns import EnhancedSignAgreementLoss, rnns, create_sequences_rnns, SimpleRNN, RMSELoss"
      ],
      "metadata": {
        "id": "PzBbd0geMS_A"
      },
      "execution_count": 19,
      "outputs": []
    },
    {
      "cell_type": "code",
      "source": [
        "# Ensure y_ibm_train and y_test are numpy arrays\n",
        "y_ibm_train = y_ibm_train.to_numpy() if isinstance(y_ibm_train, pd.Series) else y_ibm_train\n",
        "y_ibm_val = y_ibm_val.to_numpy() if isinstance(y_ibm_val, pd.Series) else y_ibm_val\n",
        "y_ibm_test = y_ibm_test.to_numpy() if isinstance(y_ibm_test, pd.Series) else y_ibm_test\n",
        "\n",
        "# Create sequences\n",
        "time_steps = 10\n",
        "X_ibm_train_seq, y_ibm_train_seq = create_sequences_rnns(X_ibm_train_scaled, y_ibm_train, time_steps)\n",
        "X_ibm_val_seq, y_ibm_val_seq = create_sequences_rnns(X_ibm_val_scaled, y_ibm_val, time_steps)\n",
        "X_ibm_test_seq, y_ibm_test_seq = create_sequences_rnns(X_ibm_test_scaled, y_ibm_test, time_steps)\n",
        "\n",
        "X_ibm_train_tensor = torch.tensor(X_ibm_train_seq, dtype=torch.float32)\n",
        "y_ibm_train_tensor = torch.tensor(y_ibm_train_seq, dtype=torch.float32)\n",
        "X_ibm_val_tensor = torch.tensor(X_ibm_val_seq, dtype=torch.float32)\n",
        "y_ibm_val_tensor = torch.tensor(y_ibm_val_seq, dtype=torch.float32)\n",
        "X_ibm_test_tensor = torch.tensor(X_ibm_test_seq, dtype=torch.float32)\n",
        "y_ibm_test_tensor = torch.tensor(y_ibm_test_seq, dtype=torch.float32)\n",
        "\n",
        "# Prepare data loaders\n",
        "ibm_train_dataset = TensorDataset(X_ibm_train_tensor, y_ibm_train_tensor)\n",
        "ibm_train_loader = DataLoader(dataset=ibm_train_dataset, batch_size=32, shuffle=True)\n",
        "ibm_val_dataset = TensorDataset(X_ibm_val_tensor, y_ibm_val_tensor)\n",
        "ibm_val_loader = DataLoader(dataset=ibm_val_dataset, batch_size=32, shuffle=False)\n",
        "\n",
        "# Prepare data for prediction\n",
        "ibm_predict_dataset = TensorDataset(X_ibm_test_tensor, y_ibm_test_tensor)\n",
        "ibm_predict_loader = DataLoader(ibm_predict_dataset, batch_size=32, shuffle=False)"
      ],
      "metadata": {
        "id": "rEEQqtNsJMC0"
      },
      "execution_count": 20,
      "outputs": []
    },
    {
      "cell_type": "code",
      "source": [
        "X_ibm_train_tensor.shape"
      ],
      "metadata": {
        "id": "fWIfqQLlHz3Z",
        "colab": {
          "base_uri": "https://localhost:8080/"
        },
        "outputId": "393fa31e-2d7b-4d6b-f921-495a0edb90cb"
      },
      "execution_count": 21,
      "outputs": [
        {
          "output_type": "execute_result",
          "data": {
            "text/plain": [
              "torch.Size([946, 10, 15])"
            ]
          },
          "metadata": {},
          "execution_count": 21
        }
      ]
    },
    {
      "cell_type": "markdown",
      "source": [
        "## RMSE"
      ],
      "metadata": {
        "id": "YMG9Dwglhz4U"
      }
    },
    {
      "cell_type": "markdown",
      "source": [
        "### RNNs"
      ],
      "metadata": {
        "id": "jNtVfTY5IOec"
      }
    },
    {
      "cell_type": "code",
      "source": [
        "# Initialize the RNN model\n",
        "ibm_rnns_rmse = SimpleRNN(input_size=15, hidden_size=20, num_layers=1, output_size=1)\n",
        "optimizer = optim.Adam(ibm_rnns_rmse.parameters(), lr=0.001)\n",
        "loss_function = RMSELoss()\n",
        "epochs = 100\n",
        "\n",
        "best_model_state, best_val_loss = rnns(ibm_rnns_rmse, ibm_train_loader, ibm_val_loader, epochs, optimizer, loss_function)"
      ],
      "metadata": {
        "id": "JNqzWqOGJAb4",
        "colab": {
          "base_uri": "https://localhost:8080/"
        },
        "outputId": "99c683f2-4679-4d33-a50c-5790abe24c82"
      },
      "execution_count": 22,
      "outputs": [
        {
          "output_type": "stream",
          "name": "stdout",
          "text": [
            "Epoch 1, Train Loss: 0.05155012384057045, Val Loss: 0.09110002964735031\n",
            "Epoch 11, Train Loss: 0.05463177710771561, Val Loss: 0.049604129046201706\n",
            "Epoch 21, Train Loss: 0.03995973989367485, Val Loss: 0.04819263517856598\n",
            "Epoch 31, Train Loss: 0.0376192182302475, Val Loss: 0.04459325596690178\n",
            "Epoch 41, Train Loss: 0.03294532746076584, Val Loss: 0.04541568458080292\n",
            "Epoch 51, Train Loss: 0.025168927386403084, Val Loss: 0.0430135503411293\n",
            "Epoch 61, Train Loss: 0.034948527812957764, Val Loss: 0.04505909979343414\n",
            "Epoch 71, Train Loss: 0.042867109179496765, Val Loss: 0.04375271499156952\n",
            "Epoch 81, Train Loss: 0.029051294550299644, Val Loss: 0.04329628497362137\n",
            "Epoch 91, Train Loss: 0.038347840309143066, Val Loss: 0.04458039999008179\n"
          ]
        }
      ]
    },
    {
      "cell_type": "code",
      "source": [
        "best_val_loss"
      ],
      "metadata": {
        "colab": {
          "base_uri": "https://localhost:8080/"
        },
        "id": "TinwEXeThUqX",
        "outputId": "37cca33f-7b42-4934-a08c-d47f6e3ad724"
      },
      "execution_count": 23,
      "outputs": [
        {
          "output_type": "execute_result",
          "data": {
            "text/plain": [
              "tensor(0.0417)"
            ]
          },
          "metadata": {},
          "execution_count": 23
        }
      ]
    },
    {
      "cell_type": "code",
      "source": [
        "ibm_rnns_rmse.load_state_dict(best_model_state)\n",
        "ibm_rnns_rmse.eval()  # Set the model to evaluation mode"
      ],
      "metadata": {
        "colab": {
          "base_uri": "https://localhost:8080/"
        },
        "id": "G7XAS2ZzXmBc",
        "outputId": "c1dbf5e3-6cab-4d1c-fccf-fcef23086216"
      },
      "execution_count": 24,
      "outputs": [
        {
          "output_type": "execute_result",
          "data": {
            "text/plain": [
              "SimpleRNN(\n",
              "  (rnn): RNN(15, 20, batch_first=True)\n",
              "  (fc): Linear(in_features=20, out_features=1, bias=True)\n",
              ")"
            ]
          },
          "metadata": {},
          "execution_count": 24
        }
      ]
    },
    {
      "cell_type": "code",
      "source": [
        "ibm_predictions = []\n",
        "ibm_actuals = []\n",
        "\n",
        "with torch.no_grad():\n",
        "    for inputs, labels in ibm_predict_loader:\n",
        "        outputs = ibm_rnns_rmse(inputs)\n",
        "        if outputs.dim() > 1 and outputs.shape[1] == 1:\n",
        "            outputs = outputs.squeeze(1)  # Make sure the output is [batch] if it's [batch, 1]\n",
        "\n",
        "        # Store predictions and actual values\n",
        "        ibm_predictions.extend(outputs.cpu().numpy())  # Convert tensor to numpy array if necessary\n",
        "        ibm_actuals.extend(labels.cpu().numpy())"
      ],
      "metadata": {
        "id": "-C6wysRFhaLS"
      },
      "execution_count": 25,
      "outputs": []
    },
    {
      "cell_type": "code",
      "source": [
        "ibm_rnns_rmse_predictions = np.array(ibm_predictions)\n",
        "ibm_rnns_rmse_actuals = np.array(ibm_actuals)"
      ],
      "metadata": {
        "id": "yvO66lyThb0c"
      },
      "execution_count": 26,
      "outputs": []
    },
    {
      "cell_type": "code",
      "source": [
        "from sklearn.metrics import accuracy_score, precision_score, recall_score, f1_score\n",
        "\n",
        "# Assuming ibm_rnns_rmse_predictions and ibm_rnns_rmse_actuals are numpy arrays of predictions and actual values\n",
        "# Convert predictions and actuals to binary classification problem (1 if positive or 0, 0 if negative)\n",
        "ibm_rnns_rmse_predicted_labels = (ibm_rnns_rmse_predictions >= 0).astype(int)\n",
        "ibm_rnns_rmse_actual_labels = (ibm_rnns_rmse_actuals >= 0).astype(int)\n",
        "\n",
        "# Calculate classifier metrics\n",
        "ibm_rnns_rmse_accuracy = accuracy_score(ibm_rnns_rmse_actual_labels, ibm_rnns_rmse_predicted_labels)\n",
        "ibm_rnns_rmse_precision = precision_score(ibm_rnns_rmse_actual_labels, ibm_rnns_rmse_predicted_labels)\n",
        "ibm_rnns_rmse_recall = recall_score(ibm_rnns_rmse_actual_labels, ibm_rnns_rmse_predicted_labels)\n",
        "ibm_rnns_rmse_f1 = f1_score(ibm_rnns_rmse_actual_labels, ibm_rnns_rmse_predicted_labels)\n",
        "\n",
        "# Print the classification metrics\n",
        "print(\"Accuracy:\", ibm_rnns_rmse_accuracy)\n",
        "print(\"Precision:\", ibm_rnns_rmse_precision)\n",
        "print(\"Recall:\", ibm_rnns_rmse_recall)\n",
        "print(\"F1 Score:\", ibm_rnns_rmse_f1)"
      ],
      "metadata": {
        "colab": {
          "base_uri": "https://localhost:8080/"
        },
        "id": "oRnTYZ6phdRI",
        "outputId": "7f772f72-f3eb-4618-bda4-99b533686fa2"
      },
      "execution_count": 27,
      "outputs": [
        {
          "output_type": "stream",
          "name": "stdout",
          "text": [
            "Accuracy: 0.5118110236220472\n",
            "Precision: 0.5555555555555556\n",
            "Recall: 0.4411764705882353\n",
            "F1 Score: 0.49180327868852464\n"
          ]
        }
      ]
    },
    {
      "cell_type": "markdown",
      "source": [
        "### LSTM"
      ],
      "metadata": {
        "id": "PJF51n68Y8sE"
      }
    },
    {
      "cell_type": "code",
      "source": [
        "from anns import LSTMModel, lstm, evaluate_signs"
      ],
      "metadata": {
        "id": "ex-Sqb1NcBqg"
      },
      "execution_count": 28,
      "outputs": []
    },
    {
      "cell_type": "code",
      "source": [
        "# Parameters\n",
        "input_size = 15\n",
        "hidden_size = 50  # Number of features in hidden state\n",
        "num_layers = 2  # Number of stacked LSTM layers\n",
        "output_size = 1  # Number of output classes\n",
        "epochs = 100\n",
        "# Model initialization\n",
        "ibm_lstm_rmse = LSTMModel(input_size, hidden_size, num_layers, output_size)\n",
        "\n",
        "# Loss and optimizer\n",
        "loss_function = RMSELoss()\n",
        "optimizer = torch.optim.Adam(ibm_lstm_rmse.parameters(), lr=0.001)\n",
        "\n",
        "# Execute training\n",
        "best_model_state, best_val_loss = lstm(ibm_lstm_rmse, ibm_train_loader, ibm_val_loader, epochs, optimizer, loss_function)"
      ],
      "metadata": {
        "colab": {
          "base_uri": "https://localhost:8080/"
        },
        "id": "WsZrH1TclUff",
        "outputId": "bd44dedb-9dee-4fe2-bce4-8069fcee5692"
      },
      "execution_count": 83,
      "outputs": [
        {
          "output_type": "stream",
          "name": "stdout",
          "text": [
            "Epoch 1, Train Loss: 0.042689438164234164, Val Loss: 0.03489395541449388\n",
            "Epoch 11, Train Loss: 0.036466063124438126, Val Loss: 0.034207584543360606\n",
            "Epoch 21, Train Loss: 0.03581572876622279, Val Loss: 0.035073702327079244\n",
            "Epoch 31, Train Loss: 0.03514443257202705, Val Loss: 0.03714979957375261\n",
            "Epoch 41, Train Loss: 0.03374106405923764, Val Loss: 0.03919527493417263\n",
            "Epoch 51, Train Loss: 0.03280066841592391, Val Loss: 0.044075064154134855\n",
            "Epoch 61, Train Loss: 0.02862385070572297, Val Loss: 0.04637454884747664\n",
            "Epoch 71, Train Loss: 0.0249844241887331, Val Loss: 0.05062257871031761\n",
            "Epoch 81, Train Loss: 0.022123736484597128, Val Loss: 0.056073587801721364\n",
            "Epoch 91, Train Loss: 0.0194060731989642, Val Loss: 0.05979088652465078\n",
            "Final Best Validation Loss: 0.03313779913716846\n"
          ]
        }
      ]
    },
    {
      "cell_type": "code",
      "source": [
        "ibm_lstm_rmse.load_state_dict(best_model_state)\n",
        "ibm_lstm_rmse.to('cuda' if torch.cuda.is_available() else 'cpu')"
      ],
      "metadata": {
        "colab": {
          "base_uri": "https://localhost:8080/"
        },
        "id": "OuIWEAzhrnmX",
        "outputId": "0d7c3b75-518d-4e26-d77c-ed33b3034f7e"
      },
      "execution_count": 84,
      "outputs": [
        {
          "output_type": "execute_result",
          "data": {
            "text/plain": [
              "LSTMModel(\n",
              "  (lstm): LSTM(15, 50, num_layers=2, batch_first=True)\n",
              "  (fc): Linear(in_features=50, out_features=1, bias=True)\n",
              ")"
            ]
          },
          "metadata": {},
          "execution_count": 84
        }
      ]
    },
    {
      "cell_type": "code",
      "source": [
        "accuracy, precision, recall, f1 = evaluate_signs(ibm_lstm_rmse, ibm_predict_loader)\n",
        "print(f\"Accuracy: {accuracy}\")\n",
        "print(f\"Precision: {precision}\")\n",
        "print(f\"Recall: {recall}\")\n",
        "print(f\"F1 Score: {f1}\")"
      ],
      "metadata": {
        "colab": {
          "base_uri": "https://localhost:8080/"
        },
        "id": "Vo8mhnT_qnFM",
        "outputId": "650269cf-c646-476e-cc0b-dae0e9f9bb56"
      },
      "execution_count": 85,
      "outputs": [
        {
          "output_type": "stream",
          "name": "stdout",
          "text": [
            "Accuracy: 0.5196850393700787\n",
            "Precision: 0.5853658536585366\n",
            "Recall: 0.35294117647058826\n",
            "F1 Score: 0.44036697247706424\n"
          ]
        }
      ]
    },
    {
      "cell_type": "markdown",
      "source": [
        "## Custom loss function"
      ],
      "metadata": {
        "id": "mtGZLWVWh5yY"
      }
    },
    {
      "cell_type": "markdown",
      "source": [
        "### RNN"
      ],
      "metadata": {
        "id": "fwqbdd7ih8Uv"
      }
    },
    {
      "cell_type": "code",
      "source": [
        "from anns import EnhancedSignAgreementLoss\n",
        "# Initialize the RNN model\n",
        "ibm_rnns_custom = SimpleRNN(input_size=15, hidden_size=20, num_layers=1, output_size=1)\n",
        "optimizer = optim.Adam(ibm_rnns_custom.parameters(), lr=0.001)\n",
        "loss_function = EnhancedSignAgreementLoss(loss_penalty=10000)\n",
        "epochs = 100\n",
        "\n",
        "best_model_state, best_val_loss = rnns(ibm_rnns_custom, ibm_train_loader, ibm_val_loader, epochs, optimizer, loss_function)"
      ],
      "metadata": {
        "colab": {
          "base_uri": "https://localhost:8080/"
        },
        "id": "VirNKGRyh76r",
        "outputId": "66940366-0874-44d3-c72b-a011b1ac5666"
      },
      "execution_count": 32,
      "outputs": [
        {
          "output_type": "stream",
          "name": "stdout",
          "text": [
            "Epoch 1, Train Loss: 5000.005859375, Val Loss: 5000.005859375\n",
            "Epoch 11, Train Loss: 5000.00048828125, Val Loss: 5416.66796875\n",
            "Epoch 21, Train Loss: 4444.44482421875, Val Loss: 5104.16845703125\n",
            "Epoch 31, Train Loss: 5000.001953125, Val Loss: 5625.001953125\n",
            "Epoch 41, Train Loss: 5555.55615234375, Val Loss: 5138.89013671875\n",
            "Epoch 51, Train Loss: 5555.55712890625, Val Loss: 5277.779296875\n",
            "Epoch 61, Train Loss: 5000.001953125, Val Loss: 5208.33447265625\n",
            "Epoch 71, Train Loss: 2777.7783203125, Val Loss: 5104.16845703125\n",
            "Epoch 81, Train Loss: 5555.5556640625, Val Loss: 4930.55712890625\n",
            "Epoch 91, Train Loss: 2222.22314453125, Val Loss: 5208.3349609375\n"
          ]
        }
      ]
    },
    {
      "cell_type": "code",
      "source": [
        "best_val_loss"
      ],
      "metadata": {
        "colab": {
          "base_uri": "https://localhost:8080/"
        },
        "id": "NCDposeiiDoE",
        "outputId": "3f521054-1f77-4fd6-ffd1-c40a18ed0d4f"
      },
      "execution_count": 33,
      "outputs": [
        {
          "output_type": "execute_result",
          "data": {
            "text/plain": [
              "tensor(4687.5010)"
            ]
          },
          "metadata": {},
          "execution_count": 33
        }
      ]
    },
    {
      "cell_type": "code",
      "source": [
        "ibm_rnns_custom.load_state_dict(best_model_state)\n",
        "ibm_rnns_custom.eval()  # Set the model to evaluation mode"
      ],
      "metadata": {
        "colab": {
          "base_uri": "https://localhost:8080/"
        },
        "id": "KO9CPjhliFLM",
        "outputId": "3eb9f33a-6b43-427d-993d-89bdcc1d6187"
      },
      "execution_count": 34,
      "outputs": [
        {
          "output_type": "execute_result",
          "data": {
            "text/plain": [
              "SimpleRNN(\n",
              "  (rnn): RNN(15, 20, batch_first=True)\n",
              "  (fc): Linear(in_features=20, out_features=1, bias=True)\n",
              ")"
            ]
          },
          "metadata": {},
          "execution_count": 34
        }
      ]
    },
    {
      "cell_type": "code",
      "source": [
        "ibm_predictions = []\n",
        "ibm_actuals = []\n",
        "\n",
        "with torch.no_grad():\n",
        "    for inputs, labels in ibm_predict_loader:\n",
        "        outputs = ibm_rnns_custom(inputs)\n",
        "        if outputs.dim() > 1 and outputs.shape[1] == 1:\n",
        "            outputs = outputs.squeeze(1)  # Make sure the output is [batch] if it's [batch, 1]\n",
        "\n",
        "        # Store predictions and actual values\n",
        "        ibm_predictions.extend(outputs.cpu().numpy())  # Convert tensor to numpy array if necessary\n",
        "        ibm_actuals.extend(labels.cpu().numpy())"
      ],
      "metadata": {
        "id": "jitEb52ViGnB"
      },
      "execution_count": 35,
      "outputs": []
    },
    {
      "cell_type": "code",
      "source": [
        "ibm_rnns_custom_predictions = np.array(ibm_predictions)\n",
        "ibm_rnns_custom_actuals = np.array(ibm_actuals)"
      ],
      "metadata": {
        "id": "GsxdleXSiIMl"
      },
      "execution_count": 36,
      "outputs": []
    },
    {
      "cell_type": "code",
      "source": [
        "from sklearn.metrics import accuracy_score, precision_score, recall_score, f1_score\n",
        "\n",
        "# Assuming ibm_rnns_rmse_predictions and ibm_rnns_rmse_actuals are numpy arrays of predictions and actual values\n",
        "# Convert predictions and actuals to binary classification problem (1 if positive or 0, 0 if negative)\n",
        "ibm_rnns_custom_predicted_labels = (ibm_rnns_custom_predictions >= 0).astype(int)\n",
        "ibm_rnns_custom_actual_labels = (ibm_rnns_custom_actuals >= 0).astype(int)\n",
        "\n",
        "# Calculate classifier metrics\n",
        "ibm_rnns_custom_accuracy = accuracy_score(ibm_rnns_custom_actual_labels, ibm_rnns_custom_predicted_labels)\n",
        "ibm_rnns_custom_precision = precision_score(ibm_rnns_custom_actual_labels, ibm_rnns_custom_predicted_labels)\n",
        "ibm_rnns_custom_recall = recall_score(ibm_rnns_custom_actual_labels, ibm_rnns_custom_predicted_labels)\n",
        "ibm_rnns_custom_f1 = f1_score(ibm_rnns_custom_actual_labels, ibm_rnns_custom_predicted_labels)\n",
        "\n",
        "# Print the classification metrics\n",
        "print(\"Accuracy:\", ibm_rnns_custom_accuracy)\n",
        "print(\"Precision:\", ibm_rnns_custom_precision)\n",
        "print(\"Recall:\", ibm_rnns_custom_recall)\n",
        "print(\"F1 Score:\", ibm_rnns_custom_f1)"
      ],
      "metadata": {
        "colab": {
          "base_uri": "https://localhost:8080/"
        },
        "id": "WJ44ENIyiJzj",
        "outputId": "ac68aec1-4d37-4d60-b454-827d81f887cc"
      },
      "execution_count": 37,
      "outputs": [
        {
          "output_type": "stream",
          "name": "stdout",
          "text": [
            "Accuracy: 0.5354330708661418\n",
            "Precision: 0.5737704918032787\n",
            "Recall: 0.5147058823529411\n",
            "F1 Score: 0.5426356589147286\n"
          ]
        }
      ]
    },
    {
      "cell_type": "markdown",
      "source": [
        "### LSTM"
      ],
      "metadata": {
        "id": "GC_iqewVh9zO"
      }
    },
    {
      "cell_type": "code",
      "source": [
        "# Parameters\n",
        "input_size = 15\n",
        "hidden_size = 50  # Number of features in hidden state\n",
        "num_layers = 2  # Number of stacked LSTM layers\n",
        "output_size = 1  # Number of output classes\n",
        "epochs = 100\n",
        "# Model initialization\n",
        "ibm_lstm_custom = LSTMModel(input_size, hidden_size, num_layers, output_size)\n",
        "\n",
        "# Loss and optimizer\n",
        "loss_function = EnhancedSignAgreementLoss(loss_penalty=10000)\n",
        "optimizer = torch.optim.Adam(ibm_lstm_custom.parameters(), lr=0.001)\n",
        "\n",
        "# Execute training\n",
        "best_model_state, best_val_loss = lstm(ibm_lstm_custom, ibm_train_loader, ibm_val_loader, epochs, optimizer, loss_function)"
      ],
      "metadata": {
        "colab": {
          "base_uri": "https://localhost:8080/"
        },
        "id": "ojB2MWofh-wG",
        "outputId": "366d2350-f7af-4b11-9aa8-49c60509b0a2"
      },
      "execution_count": 80,
      "outputs": [
        {
          "output_type": "stream",
          "name": "stdout",
          "text": [
            "Epoch 1, Train Loss: 4707.1775390625, Val Loss: 4791.667751736111\n",
            "Epoch 11, Train Loss: 4643.519742838542, Val Loss: 5138.889838324652\n",
            "Epoch 21, Train Loss: 4288.195581054688, Val Loss: 5104.167697482639\n",
            "Epoch 31, Train Loss: 4157.408561197916, Val Loss: 5243.056911892361\n",
            "Epoch 41, Train Loss: 3972.2232421875, Val Loss: 4513.890407986111\n",
            "Epoch 51, Train Loss: 3421.2971435546874, Val Loss: 5000.002115885417\n",
            "Epoch 61, Train Loss: 3369.213663736979, Val Loss: 4930.557725694444\n",
            "Epoch 71, Train Loss: 2907.4079752604166, Val Loss: 4930.558322482639\n",
            "Epoch 81, Train Loss: 2788.194921875, Val Loss: 4791.670166015625\n",
            "Epoch 91, Train Loss: 2475.694755045573, Val Loss: 4583.337510850694\n",
            "Final Best Validation Loss: 4409.726915147569\n"
          ]
        }
      ]
    },
    {
      "cell_type": "code",
      "source": [
        "ibm_lstm_custom.load_state_dict(best_model_state)\n",
        "ibm_lstm_custom.to('cuda' if torch.cuda.is_available() else 'cpu')"
      ],
      "metadata": {
        "colab": {
          "base_uri": "https://localhost:8080/"
        },
        "id": "91K2J4Ause-u",
        "outputId": "9e6482d1-9574-423a-9be9-f11236fc3655"
      },
      "execution_count": 81,
      "outputs": [
        {
          "output_type": "execute_result",
          "data": {
            "text/plain": [
              "LSTMModel(\n",
              "  (lstm): LSTM(15, 50, num_layers=2, batch_first=True)\n",
              "  (fc): Linear(in_features=50, out_features=1, bias=True)\n",
              ")"
            ]
          },
          "metadata": {},
          "execution_count": 81
        }
      ]
    },
    {
      "cell_type": "code",
      "source": [
        "accuracy, precision, recall, f1 = evaluate_signs(ibm_lstm_custom, ibm_predict_loader)\n",
        "print(f\"Accuracy: {accuracy}\")\n",
        "print(f\"Precision: {precision}\")\n",
        "print(f\"Recall: {recall}\")\n",
        "print(f\"F1 Score: {f1}\")"
      ],
      "metadata": {
        "colab": {
          "base_uri": "https://localhost:8080/"
        },
        "id": "c83biZWCsvFg",
        "outputId": "241354a6-cd2c-44da-fb26-99f865b7db60"
      },
      "execution_count": 82,
      "outputs": [
        {
          "output_type": "stream",
          "name": "stdout",
          "text": [
            "Accuracy: 0.5433070866141733\n",
            "Precision: 0.5892857142857143\n",
            "Recall: 0.4852941176470588\n",
            "F1 Score: 0.532258064516129\n"
          ]
        }
      ]
    },
    {
      "cell_type": "code",
      "source": [],
      "metadata": {
        "id": "8lKyX0PUywa1"
      },
      "execution_count": null,
      "outputs": []
    }
  ]
}