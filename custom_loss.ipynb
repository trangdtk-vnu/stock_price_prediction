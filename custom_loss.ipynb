{
  "nbformat": 4,
  "nbformat_minor": 0,
  "metadata": {
    "colab": {
      "provenance": [],
      "authorship_tag": "ABX9TyNXv9R6ZAm2nMGq0d28KUBZ",
      "include_colab_link": true
    },
    "kernelspec": {
      "name": "python3",
      "display_name": "Python 3"
    },
    "language_info": {
      "name": "python"
    }
  },
  "cells": [
    {
      "cell_type": "markdown",
      "metadata": {
        "id": "view-in-github",
        "colab_type": "text"
      },
      "source": [
        "<a href=\"https://colab.research.google.com/github/trangdtk-vnu/stock_price_prediction/blob/main/custom_loss.ipynb\" target=\"_parent\"><img src=\"https://colab.research.google.com/assets/colab-badge.svg\" alt=\"Open In Colab\"/></a>"
      ]
    },
    {
      "cell_type": "code",
      "execution_count": null,
      "metadata": {
        "id": "fWmzn2-EVEsp"
      },
      "outputs": [],
      "source": [
        "# custom_loss.py\n",
        "\n",
        "import torch\n",
        "import torch.nn as nn\n",
        "\n",
        "class EnhancedSignAgreementLoss(nn.Module):\n",
        "    def __init__(self, loss_penalty, gain_reward):\n",
        "        super(EnhancedSignAgreementLoss, self).__init__()\n",
        "        self.loss_penalty = loss_penalty\n",
        "        self.gain_reward = gain_reward\n",
        "\n",
        "    def forward(self, y_true, y_pred):\n",
        "        same_sign = torch.eq(torch.sign(y_true), torch.sign(y_pred))\n",
        "        pred_zero = torch.eq(y_pred, 0.0)\n",
        "        actual_pos = torch.gt(y_true, 0.0)\n",
        "        actual_neg = torch.lt(y_true, 0.0)\n",
        "        actual_zero = torch.eq(y_true, 0.0)\n",
        "        condition = torch.where(pred_zero,\n",
        "                                torch.where(actual_zero, torch.tensor(True, device=y_true.device),\n",
        "                                            torch.logical_or(actual_pos, actual_neg)),\n",
        "                                same_sign)\n",
        "        residual = y_true - y_pred\n",
        "        loss = torch.where(condition,\n",
        "                           self.gain_reward * torch.square(residual),\n",
        "                           self.loss_penalty * torch.square(residual))\n",
        "        return torch.mean(loss)"
      ]
    }
  ]
}